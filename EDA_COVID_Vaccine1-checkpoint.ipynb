{
 "cells": [
  {
   "cell_type": "code",
   "execution_count": null,
   "id": "pregnant-moment",
   "metadata": {},
   "outputs": [],
   "source": [
    "![image-2.png](attachment:image-2.png)"
   ]
  },
  {
   "cell_type": "markdown",
   "id": "beneficial-evening",
   "metadata": {},
   "source": [
    "## The Pandemic that should never be forgotten!!"
   ]
  },
  {
   "cell_type": "markdown",
   "id": "immune-authority",
   "metadata": {},
   "source": [
    "The COVID-19 pandemic, the first modern pandemic, will define this era and no one who lives through this will ever forget it. It is impossible to overstate the pain that people are feeling now and will continue to feel for years to come, he said, adding that the disease is disproportionately hurting poorer communities and racial minorities.\n",
    "\n",
    "Likewise, the economic impact of the shutdown is hitting low-income, minority workers the hardest.Policymakers and bureaucrats will need to make sure that, as the country opens up, the recovery doesn't make inequality even worse than it already is.\n",
    "\n",
    "Countries are beginning to deploy COVID-19 vaccines, bringing new hope to the fight against the global pandemic. WHO, UNICEF, Gavi and many other partners are working together to support countries in preparing for COVID-19 vaccine introduction. With careful planning, countries can ensure infrastructure is in place and the technical support available to safely deliver COVID-19 vaccines."
   ]
  },
  {
   "cell_type": "code",
   "execution_count": 2,
   "id": "emerging-oregon",
   "metadata": {},
   "outputs": [
    {
     "name": "stderr",
     "output_type": "stream",
     "text": [
      "Installing packages into 'C:/Users/MY PC/Documents/R/win-library/4.0'\n",
      "(as 'lib' is unspecified)\n",
      "\n",
      "also installing the dependencies 'dotCall64', 'spam', 'maps', 'RgoogleMaps', 'png', 'rjson', 'jpeg', 'bitops', 'fields'\n",
      "\n",
      "\n"
     ]
    },
    {
     "name": "stdout",
     "output_type": "stream",
     "text": [
      "package 'dotCall64' successfully unpacked and MD5 sums checked\n",
      "package 'spam' successfully unpacked and MD5 sums checked\n",
      "package 'maps' successfully unpacked and MD5 sums checked\n",
      "package 'RgoogleMaps' successfully unpacked and MD5 sums checked\n",
      "package 'png' successfully unpacked and MD5 sums checked\n",
      "package 'rjson' successfully unpacked and MD5 sums checked\n",
      "package 'jpeg' successfully unpacked and MD5 sums checked\n",
      "package 'bitops' successfully unpacked and MD5 sums checked\n",
      "package 'fields' successfully unpacked and MD5 sums checked\n",
      "package 'countrycode' successfully unpacked and MD5 sums checked\n",
      "package 'plotly' successfully unpacked and MD5 sums checked\n",
      "package 'ggmap' successfully unpacked and MD5 sums checked\n",
      "package 'rworldmap' successfully unpacked and MD5 sums checked\n",
      "\n",
      "The downloaded binary packages are in\n",
      "\tC:\\Users\\MY PC\\AppData\\Local\\Temp\\RtmpMxEFck\\downloaded_packages\n"
     ]
    },
    {
     "name": "stderr",
     "output_type": "stream",
     "text": [
      "Loading required package: dplyr\n",
      "\n",
      "\n",
      "Attaching package: 'dplyr'\n",
      "\n",
      "\n",
      "The following objects are masked from 'package:stats':\n",
      "\n",
      "    filter, lag\n",
      "\n",
      "\n",
      "The following objects are masked from 'package:base':\n",
      "\n",
      "    intersect, setdiff, setequal, union\n",
      "\n",
      "\n",
      "Loading required package: ggplot2\n",
      "\n",
      "Loading required package: tidyverse\n",
      "\n",
      "-- \u001b[1mAttaching packages\u001b[22m --------------------------------------- tidyverse 1.3.0 --\n",
      "\n",
      "\u001b[32mv\u001b[39m \u001b[34mtibble \u001b[39m 3.1.0     \u001b[32mv\u001b[39m \u001b[34mpurrr  \u001b[39m 0.3.4\n",
      "\u001b[32mv\u001b[39m \u001b[34mtidyr  \u001b[39m 1.1.3     \u001b[32mv\u001b[39m \u001b[34mstringr\u001b[39m 1.4.0\n",
      "\u001b[32mv\u001b[39m \u001b[34mreadr  \u001b[39m 1.4.0     \u001b[32mv\u001b[39m \u001b[34mforcats\u001b[39m 0.5.1\n",
      "\n",
      "-- \u001b[1mConflicts\u001b[22m ------------------------------------------ tidyverse_conflicts() --\n",
      "\u001b[31mx\u001b[39m \u001b[34mdplyr\u001b[39m::\u001b[32mfilter()\u001b[39m masks \u001b[34mstats\u001b[39m::filter()\n",
      "\u001b[31mx\u001b[39m \u001b[34mdplyr\u001b[39m::\u001b[32mlag()\u001b[39m    masks \u001b[34mstats\u001b[39m::lag()\n",
      "\n",
      "Loading required package: countrycode\n",
      "\n",
      "Loading required package: plotly\n",
      "\n",
      "\n",
      "Attaching package: 'plotly'\n",
      "\n",
      "\n",
      "The following object is masked from 'package:ggplot2':\n",
      "\n",
      "    last_plot\n",
      "\n",
      "\n",
      "The following object is masked from 'package:stats':\n",
      "\n",
      "    filter\n",
      "\n",
      "\n",
      "The following object is masked from 'package:graphics':\n",
      "\n",
      "    layout\n",
      "\n",
      "\n",
      "Loading required package: lubridate\n",
      "\n",
      "\n",
      "Attaching package: 'lubridate'\n",
      "\n",
      "\n",
      "The following objects are masked from 'package:base':\n",
      "\n",
      "    date, intersect, setdiff, union\n",
      "\n",
      "\n",
      "Loading required package: skimr\n",
      "\n",
      "Loading required package: naniar\n",
      "\n",
      "\n",
      "Attaching package: 'naniar'\n",
      "\n",
      "\n",
      "The following object is masked from 'package:skimr':\n",
      "\n",
      "    n_complete\n",
      "\n",
      "\n",
      "Loading required package: ggmap\n",
      "\n",
      "Google's Terms of Service: https://cloud.google.com/maps-platform/terms/.\n",
      "\n",
      "Please cite ggmap if you use it! See citation(\"ggmap\") for details.\n",
      "\n",
      "\n",
      "Attaching package: 'ggmap'\n",
      "\n",
      "\n",
      "The following object is masked from 'package:plotly':\n",
      "\n",
      "    wind\n",
      "\n",
      "\n",
      "Loading required package: RColorBrewer\n",
      "\n",
      "Loading required package: rworldmap\n",
      "\n",
      "Loading required package: sp\n",
      "\n",
      "### Welcome to rworldmap ###\n",
      "\n",
      "For a short introduction type : \t vignette('rworldmap')\n",
      "\n"
     ]
    },
    {
     "data": {
      "text/html": [
       "<style>\n",
       ".dl-inline {width: auto; margin:0; padding: 0}\n",
       ".dl-inline>dt, .dl-inline>dd {float: none; width: auto; display: inline-block}\n",
       ".dl-inline>dt::after {content: \":\\0020\"; padding-right: .5ex}\n",
       ".dl-inline>dt:not(:first-of-type) {padding-left: .5ex}\n",
       "</style><dl class=dl-inline><dt>dplyr</dt><dd>TRUE</dd><dt>ggplot2</dt><dd>TRUE</dd><dt>tidyverse</dt><dd>TRUE</dd><dt>countrycode</dt><dd>TRUE</dd><dt>plotly</dt><dd>TRUE</dd><dt>tidyr</dt><dd>TRUE</dd><dt>lubridate</dt><dd>TRUE</dd><dt>readr</dt><dd>TRUE</dd><dt>skimr</dt><dd>TRUE</dd><dt>naniar</dt><dd>TRUE</dd><dt>ggmap</dt><dd>TRUE</dd><dt>RColorBrewer</dt><dd>TRUE</dd><dt>rworldmap</dt><dd>TRUE</dd></dl>\n"
      ],
      "text/latex": [
       "\\begin{description*}\n",
       "\\item[dplyr] TRUE\n",
       "\\item[ggplot2] TRUE\n",
       "\\item[tidyverse] TRUE\n",
       "\\item[countrycode] TRUE\n",
       "\\item[plotly] TRUE\n",
       "\\item[tidyr] TRUE\n",
       "\\item[lubridate] TRUE\n",
       "\\item[readr] TRUE\n",
       "\\item[skimr] TRUE\n",
       "\\item[naniar] TRUE\n",
       "\\item[ggmap] TRUE\n",
       "\\item[RColorBrewer] TRUE\n",
       "\\item[rworldmap] TRUE\n",
       "\\end{description*}\n"
      ],
      "text/markdown": [
       "dplyr\n",
       ":   TRUEggplot2\n",
       ":   TRUEtidyverse\n",
       ":   TRUEcountrycode\n",
       ":   TRUEplotly\n",
       ":   TRUEtidyr\n",
       ":   TRUElubridate\n",
       ":   TRUEreadr\n",
       ":   TRUEskimr\n",
       ":   TRUEnaniar\n",
       ":   TRUEggmap\n",
       ":   TRUERColorBrewer\n",
       ":   TRUErworldmap\n",
       ":   TRUE\n",
       "\n"
      ],
      "text/plain": [
       "       dplyr      ggplot2    tidyverse  countrycode       plotly        tidyr \n",
       "        TRUE         TRUE         TRUE         TRUE         TRUE         TRUE \n",
       "   lubridate        readr        skimr       naniar        ggmap RColorBrewer \n",
       "        TRUE         TRUE         TRUE         TRUE         TRUE         TRUE \n",
       "   rworldmap \n",
       "        TRUE "
      ]
     },
     "metadata": {},
     "output_type": "display_data"
    }
   ],
   "source": [
    "packages <- c('dplyr','ggplot2','tidyverse','countrycode','plotly','tidyr','lubridate','readr','skimr','naniar','ggmap','RColorBrewer','rworldmap')\n",
    "\n",
    "install_package <- packages %in% row.names(installed.packages())\n",
    "if (any (install_package ==  FALSE))\n",
    "  install.packages(packages[!install_package])\n",
    "\n",
    "sapply(packages, require, character.only = TRUE)\n"
   ]
  },
  {
   "cell_type": "code",
   "execution_count": 10,
   "id": "paperback-humidity",
   "metadata": {},
   "outputs": [
    {
     "name": "stderr",
     "output_type": "stream",
     "text": [
      "Warning message in file(file, \"rt\"):\n",
      "\"cannot open file 'COVID_Vaccine_data.csv': No such file or directory\"\n"
     ]
    },
    {
     "ename": "ERROR",
     "evalue": "Error in file(file, \"rt\"): cannot open the connection\n",
     "output_type": "error",
     "traceback": [
      "Error in file(file, \"rt\"): cannot open the connection\nTraceback:\n",
      "1. read.csv(\"COVID_Vaccine_data.csv\")",
      "2. read.table(file = file, header = header, sep = sep, quote = quote, \n .     dec = dec, fill = fill, comment.char = comment.char, ...)",
      "3. file(file, \"rt\")"
     ]
    }
   ],
   "source": [
    "# Loading the data set (step)\n",
    "\n",
    "vaccine_data <- read.csv(\"COVID_Vaccine_data.csv\")\n",
    "\n",
    "head (vaccine_data)\n",
    "\n",
    "str(vaccine_data)"
   ]
  },
  {
   "cell_type": "code",
   "execution_count": null,
   "id": "authentic-hundred",
   "metadata": {},
   "outputs": [],
   "source": []
  },
  {
   "cell_type": "code",
   "execution_count": null,
   "id": "going-assumption",
   "metadata": {},
   "outputs": [],
   "source": []
  },
  {
   "cell_type": "code",
   "execution_count": null,
   "id": "computational-november",
   "metadata": {},
   "outputs": [],
   "source": []
  },
  {
   "cell_type": "code",
   "execution_count": null,
   "id": "bearing-regard",
   "metadata": {},
   "outputs": [],
   "source": []
  },
  {
   "cell_type": "code",
   "execution_count": null,
   "id": "annual-upgrade",
   "metadata": {},
   "outputs": [],
   "source": []
  },
  {
   "cell_type": "code",
   "execution_count": null,
   "id": "curious-cause",
   "metadata": {},
   "outputs": [],
   "source": []
  },
  {
   "cell_type": "code",
   "execution_count": null,
   "id": "fatal-portrait",
   "metadata": {},
   "outputs": [],
   "source": []
  },
  {
   "cell_type": "code",
   "execution_count": null,
   "id": "recovered-cedar",
   "metadata": {},
   "outputs": [],
   "source": []
  },
  {
   "cell_type": "code",
   "execution_count": null,
   "id": "prepared-collaboration",
   "metadata": {},
   "outputs": [],
   "source": []
  },
  {
   "cell_type": "code",
   "execution_count": null,
   "id": "constant-gentleman",
   "metadata": {},
   "outputs": [],
   "source": []
  },
  {
   "cell_type": "code",
   "execution_count": null,
   "id": "hindu-admission",
   "metadata": {},
   "outputs": [],
   "source": []
  },
  {
   "cell_type": "code",
   "execution_count": null,
   "id": "statutory-presentation",
   "metadata": {},
   "outputs": [],
   "source": []
  },
  {
   "cell_type": "code",
   "execution_count": null,
   "id": "impossible-julian",
   "metadata": {},
   "outputs": [],
   "source": []
  },
  {
   "cell_type": "code",
   "execution_count": null,
   "id": "satisfactory-washington",
   "metadata": {},
   "outputs": [],
   "source": []
  },
  {
   "cell_type": "code",
   "execution_count": null,
   "id": "annoying-comparative",
   "metadata": {},
   "outputs": [],
   "source": []
  },
  {
   "cell_type": "code",
   "execution_count": null,
   "id": "electronic-oxygen",
   "metadata": {},
   "outputs": [],
   "source": []
  },
  {
   "cell_type": "code",
   "execution_count": null,
   "id": "bronze-tiffany",
   "metadata": {},
   "outputs": [],
   "source": []
  },
  {
   "cell_type": "code",
   "execution_count": null,
   "id": "dense-large",
   "metadata": {},
   "outputs": [],
   "source": []
  },
  {
   "cell_type": "code",
   "execution_count": null,
   "id": "departmental-payment",
   "metadata": {},
   "outputs": [],
   "source": []
  },
  {
   "cell_type": "code",
   "execution_count": null,
   "id": "acceptable-punishment",
   "metadata": {},
   "outputs": [],
   "source": []
  },
  {
   "cell_type": "code",
   "execution_count": null,
   "id": "ready-taxation",
   "metadata": {},
   "outputs": [],
   "source": []
  },
  {
   "cell_type": "code",
   "execution_count": null,
   "id": "grateful-crash",
   "metadata": {},
   "outputs": [],
   "source": []
  },
  {
   "cell_type": "code",
   "execution_count": null,
   "id": "mobile-implementation",
   "metadata": {},
   "outputs": [],
   "source": []
  },
  {
   "cell_type": "code",
   "execution_count": null,
   "id": "dominant-scheduling",
   "metadata": {},
   "outputs": [],
   "source": []
  }
 ],
 "metadata": {
  "kernelspec": {
   "display_name": "R 4.0.4",
   "language": "R",
   "name": "ir35"
  },
  "language_info": {
   "codemirror_mode": "r",
   "file_extension": ".r",
   "mimetype": "text/x-r-source",
   "name": "R",
   "pygments_lexer": "r",
   "version": "4.0.4"
  }
 },
 "nbformat": 4,
 "nbformat_minor": 5
}
